{
 "cells": [
  {
   "cell_type": "code",
   "execution_count": 1,
   "id": "c7a5c532",
   "metadata": {},
   "outputs": [],
   "source": [
    "from selenium import webdriver\n",
    "from selenium.webdriver.common.by import By\n",
    "from webdriver_manager.chrome import ChromeDriverManager\n",
    "from selenium.webdriver.common.action_chains import ActionChains\n",
    "from selenium.webdriver.support.ui import WebDriverWait\n",
    "from selenium.webdriver.support import expected_conditions as EC\n",
    "from selenium.webdriver.common.keys import Keys\n",
    "from selenium.common.exceptions import StaleElementReferenceException, ElementNotInteractableException\n",
    "import time"
   ]
  },
  {
   "cell_type": "code",
   "execution_count": 2,
   "id": "75df44ce",
   "metadata": {},
   "outputs": [],
   "source": [
    "class ArtistNotFoundError(Exception):\n",
    "    pass"
   ]
  },
  {
   "cell_type": "code",
   "execution_count": 3,
   "id": "4535c038",
   "metadata": {},
   "outputs": [],
   "source": [
    "# Create a new instance of the Chrome driver\n",
    "driver = webdriver.Chrome(ChromeDriverManager().install())\n",
    "\n",
    "# Open SoundCloud\n",
    "driver.get('https://soundcloud.com/discover')"
   ]
  },
  {
   "cell_type": "code",
   "execution_count": 4,
   "id": "d6e1856e",
   "metadata": {},
   "outputs": [],
   "source": [
    "wait = WebDriverWait(driver, 10)  # Maximum wait time of 10 seconds\n",
    "\n",
    "# Find the search input element and type \"hello\"\n",
    "# search_input = wait.until(EC.presence_of_element_located((By.CSS_SELECTOR, 'input.headerSearch__input.sc-input.g-all-transitions-300')))\n",
    "# search_input.send_keys(\"Kanye West\")\n",
    "\n",
    "# Press enter to perform the search\n",
    "# search_input.submit()\n",
    "\n",
    "def submit_search_input(artist, attempts):\n",
    "    if attempts > 3:\n",
    "        raise ArtistNotFoundError(\"Artist could not be found.\")\n",
    "    search_input = WebDriverWait(driver, 10).until(EC.presence_of_element_located((By.CSS_SELECTOR, 'input.headerSearch__input.sc-input.g-all-transitions-300')))\n",
    "    search_input.send_keys(artist)\n",
    "    try:\n",
    "        search_input.submit()\n",
    "    except StaleElementReferenceException:\n",
    "        submit_search_input(artist, attempts+1)\n",
    "    except ElementNotInteractableException:\n",
    "        submit_search_input(artist, attempts+1)\n",
    "\n",
    "# Perform the search input submission\n",
    "submit_search_input(\"Lewis Capaldi\", 0)"
   ]
  },
  {
   "cell_type": "code",
   "execution_count": 5,
   "id": "ae98cab5",
   "metadata": {},
   "outputs": [],
   "source": [
    "# Wait for the search results to load\n",
    "search_results = wait.until(EC.presence_of_all_elements_located((By.CSS_SELECTOR, 'li.searchList__item.sc-mt-3x')))\n",
    "\n",
    "# Find the first search result link\n",
    "first_result = search_results[0].find_element(By.CSS_SELECTOR, 'div.userItem.sc-media.g-flex-row-centered.sc-px-2x.sc-py-1x.m-horizontal.m-verified a')\n",
    "\n",
    "# Click the link using ActionChains\n",
    "actions = ActionChains(driver)\n",
    "actions.move_to_element(first_result).click().perform()"
   ]
  },
  {
   "cell_type": "code",
   "execution_count": 6,
   "id": "d36ea117",
   "metadata": {},
   "outputs": [],
   "source": [
    "profile_tabs = wait.until(EC.presence_of_element_located((By.CSS_SELECTOR, 'ul.profileTabs.g-tabs.g-tabs-medium')))\n",
    "\n",
    "# Find the second tab link and click it\n",
    "second_tab_link = profile_tabs.find_elements(By.CSS_SELECTOR, 'li')[1].find_element(By.CSS_SELECTOR, 'a')\n",
    "driver.execute_script(\"arguments[0].click();\", second_tab_link)"
   ]
  },
  {
   "cell_type": "code",
   "execution_count": 7,
   "id": "a4f5a35d",
   "metadata": {},
   "outputs": [],
   "source": [
    "# import re\n",
    "\n",
    "# # Wait for the sound list to load\n",
    "# # sound_list = wait.until(EC.presence_of_element_located((By.CSS_SELECTOR, 'div.soundList.lazyLoadingList')))\n",
    "\n",
    "# # Find the ul element inside the sound list\n",
    "# ul_element = wait.until(EC.presence_of_element_located((By.CSS_SELECTOR, 'ul.lazyLoadingList__list.sc-list-nostyle.sc-clearfix')))\n",
    "\n",
    "# # ul_element = sound_list.find_element(By.CSS_SELECTOR, 'ul.lazyLoadingList__list.sc-list-nostyle.sc-clearfix')\n",
    "\n",
    "# # Get the first 10 li elements\n",
    "# li_elements = ul_element.find_elements(By.CSS_SELECTOR, 'li.soundList__item')[:10]\n",
    "\n",
    "# for li in li_elements:\n",
    "#     # Click the specified button inside the li element\n",
    "#     button=li.find_element(By.CSS_SELECTOR, 'button.sc-button-share.sc-button-secondary.sc-button-secondary.sc-button.sc-button-small.sc-button-responsive')\n",
    "#     button.click()\n",
    "\n",
    "#     # Find the modal content\n",
    "#     modal_content = wait.until(EC.presence_of_element_located((By.CSS_SELECTOR, 'div.modal__content')))\n",
    "    \n",
    "#     if len(modal_content.find_elements(By.CSS_SELECTOR, '.sc-button-disabled')) == 0:\n",
    "#         # Click the specified link inside the modal content\n",
    "#         link = WebDriverWait(driver, 10).until(EC.element_to_be_clickable((By.CSS_SELECTOR, 'ul.g-tabs.g-tabs-large li:nth-of-type(2) a')))\n",
    "#         link.click()\n",
    "\n",
    "#         # Find the input element and get its value\n",
    "#         input_element = wait.until(EC.presence_of_element_located((By.CSS_SELECTOR, 'p.widgetCustomization__codeContainer input')))\n",
    "#         time.sleep(1)\n",
    "#         input_value = input_element.get_attribute('value')\n",
    "        \n",
    "#         # regex\n",
    "#         input_value = re.search(r'src=\"([^\"]+)\"', input_value).group(0)\n",
    "#         input_value = re.sub(r'true', 'false', input_value)\n",
    "#         input_value = input_value[5:-1]\n",
    "\n",
    "#         print(f\"Input value: {input_value}\")\n",
    "        \n",
    "#         share = WebDriverWait(driver, 10).until(EC.element_to_be_clickable((By.CSS_SELECTOR, 'ul.g-tabs.g-tabs-large li:nth-of-type(1) a')))\n",
    "#         share.click()\n",
    "        \n",
    "#         modal_cover = wait.until(EC.presence_of_element_located((By.CSS_SELECTOR, 'div.modal__content a.sound__coverArt')))\n",
    "#         modal_cover.click()\n",
    "        \n",
    "#         driver.get(driver.current_url)\n",
    "                            \n",
    "#         album_name = wait.until(EC.presence_of_all_elements_located((By.CSS_SELECTOR, '.l-sidebar-right article:nth-of-type(3) span.sc-truncate')))[0].get_attribute(\"innerHTML\")\n",
    "\n",
    "# #         album_name = wait.until(EC.presence_of_all_elements_located((By.CSS_SELECTOR, 'article.sidebarModule span.sc-truncate')))[3].get_attribute(\"innerHTML\")\n",
    "# #         album_name = wait.until(EC.presence_of_all_elements_located((By.CSS_SELECTOR, 'article.sidebarModule span.sc-truncate:nth-of-type(4)'))).getText()\n",
    "\n",
    "#         print(album_name)\n",
    "        \n",
    "#         album_cover = wait.until(EC.presence_of_element_located((By.CSS_SELECTOR, 'div.image.image__lightOutline.interactive.sc-artwork span'))).get_attribute('style')\n",
    "#         print(re.search(r'\"(.*?)\"', album_cover).group()[1:-1])\n",
    "        \n",
    "#         driver.execute_script(\"window.history.go(-1)\")\n",
    "#         driver.get(driver.current_url)\n",
    "#     else:\n",
    "#         close = wait.until(EC.element_to_be_clickable((By.CSS_SELECTOR, '.modal__closeButton')))\n",
    "#         close.click()"
   ]
  },
  {
   "cell_type": "code",
   "execution_count": 8,
   "id": "1523bf92",
   "metadata": {},
   "outputs": [
    {
     "name": "stdout",
     "output_type": "stream",
     "text": [
      "Input value: https://w.soundcloud.com/player/?url=https%3A//api.soundcloud.com/tracks/526155132&color=%23ff5500&auto_play=false&hide_related=false&show_comments=false&show_user=false&show_reposts=false&show_teaser=false&visual=false\n",
      "Divinely Uninspired To A Hellish Extent\n",
      "https://i1.sndcdn.com/artworks-CeZQ9rO1DeIr-0-t500x500.jpg\n",
      "Input value: https://w.soundcloud.com/player/?url=https%3A//api.soundcloud.com/tracks/711816559&color=%23ff5500&auto_play=false&hide_related=false&show_comments=false&show_user=false&show_reposts=false&show_teaser=false&visual=false\n",
      "Divinely Uninspired To A Hellish Extent (Extended Edition)\n",
      "https://i1.sndcdn.com/artworks-TzujVlw4n5WB-0-t500x500.jpg\n"
     ]
    },
    {
     "ename": "NoSuchWindowException",
     "evalue": "Message: no such window: target window already closed\nfrom unknown error: web view not found\n  (Session info: chrome=114.0.5735.198)\n",
     "output_type": "error",
     "traceback": [
      "\u001b[0;31m---------------------------------------------------------------------------\u001b[0m",
      "\u001b[0;31mNoSuchWindowException\u001b[0m                     Traceback (most recent call last)",
      "Cell \u001b[0;32mIn[8], line 21\u001b[0m\n\u001b[1;32m     19\u001b[0m input_element \u001b[38;5;241m=\u001b[39m wait\u001b[38;5;241m.\u001b[39muntil(EC\u001b[38;5;241m.\u001b[39mpresence_of_element_located((By\u001b[38;5;241m.\u001b[39mCSS_SELECTOR, \u001b[38;5;124m'\u001b[39m\u001b[38;5;124mp.widgetCustomization__codeContainer input\u001b[39m\u001b[38;5;124m'\u001b[39m)))\n\u001b[1;32m     20\u001b[0m time\u001b[38;5;241m.\u001b[39msleep(\u001b[38;5;241m1\u001b[39m)\n\u001b[0;32m---> 21\u001b[0m input_value \u001b[38;5;241m=\u001b[39m \u001b[43minput_element\u001b[49m\u001b[38;5;241;43m.\u001b[39;49m\u001b[43mget_attribute\u001b[49m\u001b[43m(\u001b[49m\u001b[38;5;124;43m'\u001b[39;49m\u001b[38;5;124;43mvalue\u001b[39;49m\u001b[38;5;124;43m'\u001b[39;49m\u001b[43m)\u001b[49m\n\u001b[1;32m     23\u001b[0m \u001b[38;5;66;03m# regex\u001b[39;00m\n\u001b[1;32m     24\u001b[0m input_value \u001b[38;5;241m=\u001b[39m re\u001b[38;5;241m.\u001b[39msearch(\u001b[38;5;124mr\u001b[39m\u001b[38;5;124m'\u001b[39m\u001b[38;5;124msrc=\u001b[39m\u001b[38;5;124m\"\u001b[39m\u001b[38;5;124m([^\u001b[39m\u001b[38;5;124m\"\u001b[39m\u001b[38;5;124m]+)\u001b[39m\u001b[38;5;124m\"\u001b[39m\u001b[38;5;124m'\u001b[39m, input_value)\u001b[38;5;241m.\u001b[39mgroup(\u001b[38;5;241m0\u001b[39m)\n",
      "File \u001b[0;32m~/miniconda3/lib/python3.10/site-packages/selenium/webdriver/remote/webelement.py:139\u001b[0m, in \u001b[0;36mWebElement.get_attribute\u001b[0;34m(self, name)\u001b[0m\n\u001b[1;32m    137\u001b[0m attributeValue \u001b[38;5;241m=\u001b[39m \u001b[38;5;124m'\u001b[39m\u001b[38;5;124m'\u001b[39m\n\u001b[1;32m    138\u001b[0m \u001b[38;5;28;01mif\u001b[39;00m \u001b[38;5;28mself\u001b[39m\u001b[38;5;241m.\u001b[39m_w3c:\n\u001b[0;32m--> 139\u001b[0m     attributeValue \u001b[38;5;241m=\u001b[39m \u001b[38;5;28;43mself\u001b[39;49m\u001b[38;5;241;43m.\u001b[39;49m\u001b[43mparent\u001b[49m\u001b[38;5;241;43m.\u001b[39;49m\u001b[43mexecute_script\u001b[49m\u001b[43m(\u001b[49m\n\u001b[1;32m    140\u001b[0m \u001b[43m        \u001b[49m\u001b[38;5;124;43m\"\u001b[39;49m\u001b[38;5;124;43mreturn (\u001b[39;49m\u001b[38;5;132;43;01m%s\u001b[39;49;00m\u001b[38;5;124;43m).apply(null, arguments);\u001b[39;49m\u001b[38;5;124;43m\"\u001b[39;49m\u001b[43m \u001b[49m\u001b[38;5;241;43m%\u001b[39;49m\u001b[43m \u001b[49m\u001b[43mgetAttribute_js\u001b[49m\u001b[43m,\u001b[49m\n\u001b[1;32m    141\u001b[0m \u001b[43m        \u001b[49m\u001b[38;5;28;43mself\u001b[39;49m\u001b[43m,\u001b[49m\u001b[43m \u001b[49m\u001b[43mname\u001b[49m\u001b[43m)\u001b[49m\n\u001b[1;32m    142\u001b[0m \u001b[38;5;28;01melse\u001b[39;00m:\n\u001b[1;32m    143\u001b[0m     resp \u001b[38;5;241m=\u001b[39m \u001b[38;5;28mself\u001b[39m\u001b[38;5;241m.\u001b[39m_execute(Command\u001b[38;5;241m.\u001b[39mGET_ELEMENT_ATTRIBUTE, {\u001b[38;5;124m'\u001b[39m\u001b[38;5;124mname\u001b[39m\u001b[38;5;124m'\u001b[39m: name})\n",
      "File \u001b[0;32m~/miniconda3/lib/python3.10/site-packages/selenium/webdriver/remote/webdriver.py:634\u001b[0m, in \u001b[0;36mWebDriver.execute_script\u001b[0;34m(self, script, *args)\u001b[0m\n\u001b[1;32m    631\u001b[0m \u001b[38;5;28;01melse\u001b[39;00m:\n\u001b[1;32m    632\u001b[0m     command \u001b[38;5;241m=\u001b[39m Command\u001b[38;5;241m.\u001b[39mEXECUTE_SCRIPT\n\u001b[0;32m--> 634\u001b[0m \u001b[38;5;28;01mreturn\u001b[39;00m \u001b[38;5;28;43mself\u001b[39;49m\u001b[38;5;241;43m.\u001b[39;49m\u001b[43mexecute\u001b[49m\u001b[43m(\u001b[49m\u001b[43mcommand\u001b[49m\u001b[43m,\u001b[49m\u001b[43m \u001b[49m\u001b[43m{\u001b[49m\n\u001b[1;32m    635\u001b[0m \u001b[43m    \u001b[49m\u001b[38;5;124;43m'\u001b[39;49m\u001b[38;5;124;43mscript\u001b[39;49m\u001b[38;5;124;43m'\u001b[39;49m\u001b[43m:\u001b[49m\u001b[43m \u001b[49m\u001b[43mscript\u001b[49m\u001b[43m,\u001b[49m\n\u001b[1;32m    636\u001b[0m \u001b[43m    \u001b[49m\u001b[38;5;124;43m'\u001b[39;49m\u001b[38;5;124;43margs\u001b[39;49m\u001b[38;5;124;43m'\u001b[39;49m\u001b[43m:\u001b[49m\u001b[43m \u001b[49m\u001b[43mconverted_args\u001b[49m\u001b[43m}\u001b[49m\u001b[43m)\u001b[49m[\u001b[38;5;124m'\u001b[39m\u001b[38;5;124mvalue\u001b[39m\u001b[38;5;124m'\u001b[39m]\n",
      "File \u001b[0;32m~/miniconda3/lib/python3.10/site-packages/selenium/webdriver/remote/webdriver.py:321\u001b[0m, in \u001b[0;36mWebDriver.execute\u001b[0;34m(self, driver_command, params)\u001b[0m\n\u001b[1;32m    319\u001b[0m response \u001b[38;5;241m=\u001b[39m \u001b[38;5;28mself\u001b[39m\u001b[38;5;241m.\u001b[39mcommand_executor\u001b[38;5;241m.\u001b[39mexecute(driver_command, params)\n\u001b[1;32m    320\u001b[0m \u001b[38;5;28;01mif\u001b[39;00m response:\n\u001b[0;32m--> 321\u001b[0m     \u001b[38;5;28;43mself\u001b[39;49m\u001b[38;5;241;43m.\u001b[39;49m\u001b[43merror_handler\u001b[49m\u001b[38;5;241;43m.\u001b[39;49m\u001b[43mcheck_response\u001b[49m\u001b[43m(\u001b[49m\u001b[43mresponse\u001b[49m\u001b[43m)\u001b[49m\n\u001b[1;32m    322\u001b[0m     response[\u001b[38;5;124m'\u001b[39m\u001b[38;5;124mvalue\u001b[39m\u001b[38;5;124m'\u001b[39m] \u001b[38;5;241m=\u001b[39m \u001b[38;5;28mself\u001b[39m\u001b[38;5;241m.\u001b[39m_unwrap_value(\n\u001b[1;32m    323\u001b[0m         response\u001b[38;5;241m.\u001b[39mget(\u001b[38;5;124m'\u001b[39m\u001b[38;5;124mvalue\u001b[39m\u001b[38;5;124m'\u001b[39m, \u001b[38;5;28;01mNone\u001b[39;00m))\n\u001b[1;32m    324\u001b[0m     \u001b[38;5;28;01mreturn\u001b[39;00m response\n",
      "File \u001b[0;32m~/miniconda3/lib/python3.10/site-packages/selenium/webdriver/remote/errorhandler.py:242\u001b[0m, in \u001b[0;36mErrorHandler.check_response\u001b[0;34m(self, response)\u001b[0m\n\u001b[1;32m    240\u001b[0m         alert_text \u001b[38;5;241m=\u001b[39m value[\u001b[38;5;124m'\u001b[39m\u001b[38;5;124malert\u001b[39m\u001b[38;5;124m'\u001b[39m]\u001b[38;5;241m.\u001b[39mget(\u001b[38;5;124m'\u001b[39m\u001b[38;5;124mtext\u001b[39m\u001b[38;5;124m'\u001b[39m)\n\u001b[1;32m    241\u001b[0m     \u001b[38;5;28;01mraise\u001b[39;00m exception_class(message, screen, stacktrace, alert_text)\n\u001b[0;32m--> 242\u001b[0m \u001b[38;5;28;01mraise\u001b[39;00m exception_class(message, screen, stacktrace)\n",
      "\u001b[0;31mNoSuchWindowException\u001b[0m: Message: no such window: target window already closed\nfrom unknown error: web view not found\n  (Session info: chrome=114.0.5735.198)\n"
     ]
    }
   ],
   "source": [
    "import re\n",
    "\n",
    "for x in range(0,10):\n",
    "    ul_element = wait.until(EC.presence_of_element_located((By.CSS_SELECTOR, 'ul.lazyLoadingList__list.sc-list-nostyle.sc-clearfix')))\n",
    "    li = ul_element.find_elements(By.CSS_SELECTOR, 'li.soundList__item')[x]\n",
    "    # Click the specified button inside the li element\n",
    "    button=li.find_element(By.CSS_SELECTOR, 'button.sc-button-share.sc-button-secondary.sc-button-secondary.sc-button.sc-button-small.sc-button-responsive')\n",
    "    button.click()\n",
    "\n",
    "    # Find the modal content\n",
    "    modal_content = wait.until(EC.presence_of_element_located((By.CSS_SELECTOR, 'div.modal__content')))\n",
    "    \n",
    "    if len(modal_content.find_elements(By.CSS_SELECTOR, '.sc-button-disabled')) == 0:\n",
    "        # Click the specified link inside the modal content\n",
    "        link = WebDriverWait(driver, 10).until(EC.element_to_be_clickable((By.CSS_SELECTOR, 'ul.g-tabs.g-tabs-large li:nth-of-type(2) a')))\n",
    "        link.click()\n",
    "\n",
    "        # Find the input element and get its value\n",
    "        input_element = wait.until(EC.presence_of_element_located((By.CSS_SELECTOR, 'p.widgetCustomization__codeContainer input')))\n",
    "        time.sleep(1)\n",
    "        input_value = input_element.get_attribute('value')\n",
    "        \n",
    "        # regex\n",
    "        input_value = re.search(r'src=\"([^\"]+)\"', input_value).group(0)\n",
    "        input_value = re.sub(r'true', 'false', input_value)\n",
    "        input_value = input_value[5:-1]\n",
    "\n",
    "        print(f\"Input value: {input_value}\")\n",
    "        \n",
    "        share = WebDriverWait(driver, 10).until(EC.element_to_be_clickable((By.CSS_SELECTOR, 'ul.g-tabs.g-tabs-large li:nth-of-type(1) a')))\n",
    "        share.click()\n",
    "        \n",
    "        modal_cover = wait.until(EC.presence_of_element_located((By.CSS_SELECTOR, 'div.modal__content a.sound__coverArt')))\n",
    "        modal_cover.click()\n",
    "        \n",
    "        driver.get(driver.current_url)\n",
    "                            \n",
    "        album_name = wait.until(EC.presence_of_all_elements_located((By.CSS_SELECTOR, '.l-sidebar-right article:nth-of-type(3) span.sc-truncate')))[0].get_attribute(\"innerHTML\")\n",
    "\n",
    "        print(album_name)\n",
    "        \n",
    "        album_cover = wait.until(EC.presence_of_element_located((By.CSS_SELECTOR, 'div.image.image__lightOutline.interactive.sc-artwork span'))).get_attribute('style')\n",
    "        print(re.search(r'\"(.*?)\"', album_cover).group()[1:-1])\n",
    "        \n",
    "        driver.execute_script(\"window.history.go(-1)\")\n",
    "        driver.get(driver.current_url)\n",
    "    else:\n",
    "        close = wait.until(EC.element_to_be_clickable((By.CSS_SELECTOR, '.modal__closeButton')))\n",
    "        close.click()"
   ]
  },
  {
   "cell_type": "code",
   "execution_count": null,
   "id": "8ec2e4eb",
   "metadata": {},
   "outputs": [],
   "source": [
    "# Close the browser\n",
    "driver.quit()"
   ]
  },
  {
   "cell_type": "code",
   "execution_count": null,
   "id": "56704842",
   "metadata": {},
   "outputs": [],
   "source": []
  }
 ],
 "metadata": {
  "kernelspec": {
   "display_name": "Python 3 (ipykernel)",
   "language": "python",
   "name": "python3"
  },
  "language_info": {
   "codemirror_mode": {
    "name": "ipython",
    "version": 3
   },
   "file_extension": ".py",
   "mimetype": "text/x-python",
   "name": "python",
   "nbconvert_exporter": "python",
   "pygments_lexer": "ipython3",
   "version": "3.10.8"
  }
 },
 "nbformat": 4,
 "nbformat_minor": 5
}
